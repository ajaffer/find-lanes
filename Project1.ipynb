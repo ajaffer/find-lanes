{
 "cells": [
  {
   "cell_type": "code",
   "execution_count": 16,
   "metadata": {
    "collapsed": true
   },
   "outputs": [],
   "source": [
    "import math\n",
    "import statistics\n",
    "from sklearn import linear_model, datasets\n",
    "\n",
    "def grayscale(img):\n",
    "    \"\"\"Applies the Grayscale transform\"\"\"\n",
    "    return cv2.cvtColor(img, cv2.COLOR_RGB2GRAY)\n",
    "    \n",
    "def canny(img, low_threshold, high_threshold):\n",
    "    \"\"\"Applies the Canny transform\"\"\"\n",
    "    return cv2.Canny(img, low_threshold, high_threshold)\n",
    "\n",
    "def gaussian_blur(img, kernel_size):\n",
    "    \"\"\"Applies a Gaussian Noise kernel\"\"\"\n",
    "    return cv2.GaussianBlur(img, (kernel_size, kernel_size), 0)\n",
    "\n",
    "def region_of_interest(img, vertices):\n",
    "    \"\"\"\n",
    "    Applies an image mask.\n",
    "    \n",
    "    Only keeps the region of the image defined by the polygon\n",
    "    formed from `vertices`. The rest of the image is set to black.\n",
    "    \"\"\"\n",
    "    #defining a blank mask to start with\n",
    "    mask = np.zeros_like(img)   \n",
    "    \n",
    "    #defining a 3 channel or 1 channel color to fill the mask with depending on the input image\n",
    "    if len(img.shape) > 2:\n",
    "        channel_count = img.shape[2]  # i.e. 3 or 4 depending on your image\n",
    "        ignore_mask_color = (255,) * channel_count\n",
    "    else:\n",
    "        ignore_mask_color = 255\n",
    "        \n",
    "    #filling pixels inside the polygon defined by \"vertices\" with the fill color    \n",
    "    cv2.fillPoly(mask, vertices, ignore_mask_color)\n",
    "    \n",
    "    #returning the image only where mask pixels are nonzero\n",
    "    masked_image = cv2.bitwise_and(img, mask)\n",
    "    return masked_image\n",
    "\n",
    "\n",
    "def v_point(right, left):\n",
    "    \"\"\"\n",
    "    Calculates the vanishing point.\n",
    "    \n",
    "    Given the right and left lane lines, it first calculate the \n",
    "    respective averages for the lane lines, and then uses the \n",
    "    line equations to find the vanishing point.\n",
    "    \"\"\"\n",
    "    right_avg=average(right)\n",
    "    left_avg=average(left)\n",
    "    \n",
    "    right_b = right_avg[5]\n",
    "    right_slope = right_avg[4]\n",
    "    left_b = left_avg[5]\n",
    "    left_slope = left_avg[4]\n",
    "    \n",
    "    x = int((right_b - left_b) / (left_slope - right_slope))\n",
    "    y = int(x * left_slope + left_b)\n",
    "    \n",
    "    return (x,y)\n",
    "\n",
    "ctr=0\n",
    "right_b=0\n",
    "right_slope=0\n",
    "left_b=0\n",
    "left_slope=0\n",
    "def draw_using_moving_avg(right, left, img):\n",
    "    \"\"\"\n",
    "    Draws lines, keeping a global average.\n",
    "    \n",
    "    Very basic implementation, keeps a global average of the line's historical values.\n",
    "    This implementation is very basic and in reality would cause a lot of issues, on \n",
    "    mainly is the fact that this kind of implementation would make the detected lines\n",
    "    to react very slowly to changing conditions.\n",
    "    \"\"\"\n",
    "    \n",
    "    global right_b\n",
    "    global right_slope\n",
    "    global left_b\n",
    "    global left_slope\n",
    "    global ctr\n",
    "    \n",
    "    right_avg = average(right)\n",
    "    left_avg = average(left)\n",
    "    \n",
    "    right_b = (right_b * ctr + right_avg[5]) / (ctr + 1)\n",
    "    right_slope = (right_slope * ctr + right_avg[4]) / (ctr + 1)\n",
    "\n",
    "    left_b = (left_b * ctr + left_avg[5]) / (ctr + 1)\n",
    "    left_slope = (left_slope * ctr + left_avg[4]) / (ctr + 1)\n",
    "    ctr += 1\n",
    "    \n",
    "    y1 = int(img.shape[0])\n",
    "    x1 = int((y1-right_b)/right_slope)\n",
    "\n",
    "    y2 = int(.61 * img.shape[0])\n",
    "    x2 = int((y2-right_b)/right_slope)\n",
    "    cv2.line(img, (x1,y1), (x2,y2), [255,0,0], 15)\n",
    "\n",
    "    y1 = int(img.shape[0])\n",
    "    x1 = int((y1-left_b)/left_slope)\n",
    "\n",
    "    y2 = int(.61 * img.shape[0])\n",
    "    x2 = int((y2-left_b)/left_slope)\n",
    "    cv2.line(img, (x1,y1), (x2,y2), [255,0,0], 15)\n",
    "\n",
    "\n",
    "def average(lines):\n",
    "    \"\"\"\n",
    "    Helper function to find the average of values.\n",
    "    \n",
    "    Only keeps the region of the image defined by the polygon\n",
    "    formed from `vertices`. The rest of the image is set to black.\n",
    "    \"\"\"\n",
    "    \n",
    "    lines = [item for sublist in lines for item in sublist]\n",
    "    N = float(len(lines))\n",
    "    return tuple(sum(col)/N for col in zip(*lines))    \n",
    "\n",
    "def filter_vpoint(v_point, right, left):\n",
    "    \"\"\"\n",
    "    Filters right and left lane lines based on the vanishing point    \n",
    "    \"\"\"\n",
    "    right_result = []\n",
    "    left_result = []\n",
    "\n",
    "    for line in right:\n",
    "        for x1,y1,x2,y2,m,b in line:\n",
    "            if (x1 <=  v_point[0] or x2 <= v_point[0]):\n",
    "                continue\n",
    "            right_result.append([[x1,y1,x2,y2,m,b]])\n",
    "\n",
    "    for line in left:\n",
    "        for x1,y1,x2,y2,m,b in line:\n",
    "            if (x1 >=  v_point[0] or x2 >= v_point[0]):\n",
    "                continue\n",
    "            left_result.append([[x1,y1,x2,y2,m,b]])\n",
    "        \n",
    "    return (right_result, left_result)        \n",
    "\n",
    "def filter_far_lines(lines):\n",
    "    \"\"\"\n",
    "    Filters out lines that are too far.    \n",
    "    \"\"\"\n",
    "    avg = average(lines)\n",
    "    avg_m = avg[4]\n",
    "    avg_b = avg[5]\n",
    "    \n",
    "    result=[]\n",
    "    \n",
    "    \n",
    "    for line in lines:\n",
    "        for x1,y1,x2,y2,m,b in line:\n",
    "            d = abs(b-avg_b) / math.sqrt(pow(m,2)+1)\n",
    "            if (d <= 250):\n",
    "                result.append([[x1,y1,x2,y2,m,b]])\n",
    "            #else:\n",
    "                #print(\"ignoring %d\", d)\n",
    "\n",
    "    return result                \n",
    "                \n",
    "def draw_lines_simple(img, lines, color=[255, 0, 0], thickness=10):\n",
    "    \"\"\"\n",
    "    This function draws `lines` with `color` and `thickness`.    \n",
    "    Lines are drawn on the image inplace (mutates the image).\n",
    "    \"\"\"\n",
    "    \n",
    "    for line in lines:\n",
    "        for x1,y1,x2,y2 in line:\n",
    "            cv2.line(img, (x1, y1), (x2, y2), color, 2)\n",
    "\n",
    "def draw_extrapolated_lines(img, lines, color=[255, 0, 0], thickness=10):\n",
    "    \"\"\"\n",
    "    Does the following steps\n",
    "    1) separates out lines into left/right based on slope\n",
    "    2) removes lines that are too flat or too vertical\n",
    "    3) finds the vanishing point\n",
    "    4) filter out noisy lines, using the vanishing point\n",
    "    5) calculates avg slopes for right/left\n",
    "    6) filter out noise lines, that are too far away from the average\n",
    "    7) draws lines based on avg slopes and the vanishing point\n",
    "    8) keeps a running avg of the right/left slopes \n",
    "    \"\"\"\n",
    "    right=[]\n",
    "    left=[]\n",
    "    \n",
    "    for line in lines:\n",
    "        for x1,y1,x2,y2 in line:\n",
    "            m = ((y2-y1)/(x2-x1))\n",
    "            if (m == float(\"-inf\") or m == float(\"inf\")):\n",
    "                continue\n",
    "            if ((m < 0.55 and m > 0) or (m > -0.55 and m < 0)):\n",
    "                continue               \n",
    "\n",
    "            b = y2 - x2 * m\n",
    "            if (m < 0):\n",
    "                left.append([[x1,y1,x2,y2,m,b]])\n",
    "            if (m > 0):\n",
    "                right.append([[x1,y1,x2,y2,m,b]])\n",
    "          \n",
    "    v_p = v_point(right, left)\n",
    "\n",
    "    right,left = filter_vpoint(v_p, right, left)\n",
    "    \n",
    "    avg = average(right)\n",
    "    avg_m = avg[4]\n",
    "    avg_b = avg[5]\n",
    "    \n",
    "    right = filter_far_lines(right)\n",
    "    left = filter_far_lines(left)\n",
    "    draw_using_moving_avg(right, left, img)\n",
    "    \n",
    "\n",
    "def hough_lines(img, rho, theta, threshold, min_line_len, max_line_gap, simple=False):\n",
    "    \"\"\"\n",
    "    `img` should be the output of a Canny transform.\n",
    "        \n",
    "    Returns an image with hough lines drawn.\n",
    "    \"\"\"\n",
    "    lines = cv2.HoughLinesP(img, rho, theta, threshold, np.array([]), minLineLength=min_line_len, maxLineGap=max_line_gap)\n",
    "    line_img = np.zeros((img.shape[0], img.shape[1], 3), dtype=np.uint8)\n",
    "    if (simple):\n",
    "        draw_lines_simple(line_img, lines)\n",
    "    else:            \n",
    "        draw_extrapolated_lines(line_img, lines)\n",
    "    return line_img\n",
    "\n",
    "# Python 3 has support for cool math symbols.\n",
    "\n",
    "def weighted_img(img, initial_img, α=0.8, β=1., λ=0.):\n",
    "    \"\"\"\n",
    "    `img` is the output of the hough_lines(), An image with lines drawn on it.\n",
    "    Should be a blank image (all black) with lines drawn on it.\n",
    "    \n",
    "    `initial_img` should be the image before any processing.\n",
    "    \n",
    "    The result image is computed as follows:\n",
    "    \n",
    "    initial_img * α + img * β + λ\n",
    "    NOTE: initial_img and img must be the same shape!\n",
    "    \"\"\"\n",
    "    return cv2.addWeighted(initial_img, α, img, β, λ)"
   ]
  },
  {
   "cell_type": "code",
   "execution_count": 25,
   "metadata": {
    "collapsed": false
   },
   "outputs": [
    {
     "name": "stdout",
     "output_type": "stream",
     "text": [
      "solidWhiteCurve.jpg\n",
      "solidWhiteRight.jpg\n",
      "solidYellowCurve.jpg\n",
      "solidYellowCurve2.jpg\n",
      "solidYellowLeft.jpg\n",
      "whiteCarLaneSwitch.jpg\n"
     ]
    }
   ],
   "source": [
    "#importing some useful packages\n",
    "import matplotlib.pyplot as plt\n",
    "import matplotlib.image as mpimg\n",
    "import numpy as np\n",
    "import os\n",
    "\n",
    "import cv2\n",
    "%matplotlib inline\n",
    "\n",
    "def pipeline(image, simple=False):\n",
    "    \"\"\"\n",
    "    1) Applies the Grayscale transform\n",
    "    2) Applies a Gaussian Noise kernel\n",
    "    3) Applies the Canny transform\n",
    "    4) Draws hough lines\n",
    "    5) then draws the lines \n",
    "\n",
    "    In simple mode, it will draw the hough lines, otherwise, it will do the following:\n",
    "\n",
    "    1) separates out lines into left/right based on slope\n",
    "    2) removes lines that are too flat or too vertical\n",
    "    3) finds the vanishing point\n",
    "    4) filter out noisy lines, using the vanishing point\n",
    "    5) calculates avg slopes for right/left\n",
    "    6) filter out noise lines, that are too far away from the average\n",
    "    7) draws lines based on avg slopes and the vanishing point\n",
    "    8) keeps a running avg of the right/left slopes \n",
    "\n",
    "    \"\"\"\n",
    "    \n",
    "    gray = grayscale(image)\n",
    "    imshape = image.shape\n",
    "\n",
    "    kernel_size = 3\n",
    "    blur_gray = gaussian_blur(gray, kernel_size)\n",
    "\n",
    "    low_threshold = 50\n",
    "    high_threshold = 150\n",
    "    edges = canny(blur_gray, low_threshold, high_threshold)\n",
    "\n",
    "    vertices = np.array([[(imshape[1]/16, imshape[0]), (7*imshape[1]/16, 61*imshape[0]/100),(9*imshape[1]/16, 61*imshape[0]/100), (15*imshape[1]/16, imshape[0])]], dtype=np.int32)\n",
    "    masked_edges = region_of_interest(edges, vertices)\n",
    "\n",
    "    rho = 1 # distance resolution in pixels of the Hough grid\n",
    "    theta = np.pi/180 # angular resolution in radians of the Hough grid\n",
    "    threshold = 1     # minimum number of votes (intersections in Hough grid cell)\n",
    "    min_line_length = 2 #minimum number of pixels making up a line\n",
    "    max_line_gap = 2    # maximum gap in pixels between connectable line segments\n",
    "    line_image = hough_lines(masked_edges, rho, theta, threshold, min_line_length, max_line_gap, simple)\n",
    "        \n",
    "    #color_edges = np.dstack((edges, edges, edges)) \n",
    "\n",
    "    lines_edges = weighted_img(line_image, image)\n",
    "    return lines_edges\n",
    "\n",
    "test_image_file_names = os.listdir(\"test_images/\")\n",
    "for image_file_name in test_image_file_names:\n",
    "    print(image_file_name)\n",
    "    # Read in and grayscale the image\n",
    "    image = mpimg.imread(\"test_images/\" + image_file_name)    \n",
    "    result = pipeline(image, True)\n",
    "    mpimg.imsave(\"test_image_hough_lines/\" + image_file_name, result)"
   ]
  },
  {
   "cell_type": "code",
   "execution_count": 34,
   "metadata": {
    "collapsed": false
   },
   "outputs": [
    {
     "name": "stdout",
     "output_type": "stream",
     "text": [
      "[MoviePy] >>>> Building video test_videos_output/solidWhiteRight.mp4\n",
      "[MoviePy] Writing video test_videos_output/solidWhiteRight.mp4\n"
     ]
    },
    {
     "name": "stderr",
     "output_type": "stream",
     "text": [
      "100%|█████████▉| 221/222 [00:03<00:00, 58.41it/s]\n"
     ]
    },
    {
     "name": "stdout",
     "output_type": "stream",
     "text": [
      "[MoviePy] Done.\n",
      "[MoviePy] >>>> Video ready: test_videos_output/solidWhiteRight.mp4 \n",
      "\n",
      "CPU times: user 3.32 s, sys: 250 ms, total: 3.57 s\n",
      "Wall time: 4.22 s\n"
     ]
    }
   ],
   "source": [
    "# Import everything needed to edit/save/watch video clips\n",
    "from moviepy.editor import VideoFileClip\n",
    "from IPython.display import HTML\n",
    "def process_image(image):\n",
    "    # NOTE: The output you return should be a color image (3 channel) for processing video below\n",
    "    # TODO: put your pipeline here,\n",
    "    result = pipeline(image)\n",
    "    # you should return the final output (image where lines are drawn on lanes)\n",
    "    return result\n",
    "\n",
    "white_output = 'test_videos_output/solidWhiteRight.mp4'\n",
    "## To speed up the testing process you may want to try your pipeline on a shorter subclip of the video\n",
    "## To do so add .subclip(start_second,end_second) to the end of the line below\n",
    "## Where start_second and end_second are integer values representing the start and end of the subclip\n",
    "## You may also uncomment the following line for a subclip of the first 5 seconds\n",
    "##clip1 = VideoFileClip(\"test_videos/solidWhiteRight.mp4\").subclip(0,5)\n",
    "clip1 = VideoFileClip(\"test_videos/solidWhiteRight.mp4\")\n",
    "white_clip = clip1.fl_image(process_image) #NOTE: this function expects color images!!\n",
    "%time white_clip.write_videofile(white_output, audio=False)"
   ]
  },
  {
   "cell_type": "code",
   "execution_count": 10,
   "metadata": {
    "collapsed": false
   },
   "outputs": [
    {
     "data": {
      "text/html": [
       "\n",
       "<video width=\"960\" height=\"540\" controls>\n",
       "  <source src=\"test_videos_output/solidWhiteRight.mp4\">\n",
       "</video>\n"
      ],
      "text/plain": [
       "<IPython.core.display.HTML object>"
      ]
     },
     "execution_count": 10,
     "metadata": {},
     "output_type": "execute_result"
    }
   ],
   "source": [
    "HTML(\"\"\"\n",
    "<video width=\"960\" height=\"540\" controls>\n",
    "  <source src=\"{0}\">\n",
    "</video>\n",
    "\"\"\".format(white_output))"
   ]
  },
  {
   "cell_type": "code",
   "execution_count": 36,
   "metadata": {
    "collapsed": false
   },
   "outputs": [
    {
     "name": "stdout",
     "output_type": "stream",
     "text": [
      "[MoviePy] >>>> Building video test_videos_output/solidYellowLeft.mp4\n",
      "[MoviePy] Writing video test_videos_output/solidYellowLeft.mp4\n"
     ]
    },
    {
     "name": "stderr",
     "output_type": "stream",
     "text": [
      "100%|█████████▉| 681/682 [00:12<00:00, 53.38it/s]\n"
     ]
    },
    {
     "name": "stdout",
     "output_type": "stream",
     "text": [
      "[MoviePy] Done.\n",
      "[MoviePy] >>>> Video ready: test_videos_output/solidYellowLeft.mp4 \n",
      "\n",
      "CPU times: user 10.3 s, sys: 920 ms, total: 11.3 s\n",
      "Wall time: 13.2 s\n"
     ]
    }
   ],
   "source": [
    "yellow_output = 'test_videos_output/solidYellowLeft.mp4'\n",
    "## To speed up the testing process you may want to try your pipeline on a shorter subclip of the video\n",
    "## To do so add .subclip(start_second,end_second) to the end of the line below\n",
    "## Where start_second and end_second are integer values representing the start and end of the subclip\n",
    "## You may also uncomment the following line for a subclip of the first 5 seconds\n",
    "##clip2 = VideoFileClip('test_videos/solidYellowLeft.mp4').subclip(0,5)\n",
    "clip2 = VideoFileClip('test_videos/solidYellowLeft.mp4')\n",
    "yellow_clip = clip2.fl_image(process_image)\n",
    "%time yellow_clip.write_videofile(yellow_output, audio=False)"
   ]
  },
  {
   "cell_type": "code",
   "execution_count": 12,
   "metadata": {
    "collapsed": false
   },
   "outputs": [
    {
     "data": {
      "text/html": [
       "\n",
       "<video width=\"960\" height=\"540\" controls>\n",
       "  <source src=\"test_videos_output/solidYellowLeft.mp4\">\n",
       "</video>\n"
      ],
      "text/plain": [
       "<IPython.core.display.HTML object>"
      ]
     },
     "execution_count": 12,
     "metadata": {},
     "output_type": "execute_result"
    }
   ],
   "source": [
    "HTML(\"\"\"\n",
    "<video width=\"960\" height=\"540\" controls>\n",
    "  <source src=\"{0}\">\n",
    "</video>\n",
    "\"\"\".format(yellow_output))"
   ]
  },
  {
   "cell_type": "code",
   "execution_count": 37,
   "metadata": {
    "collapsed": false
   },
   "outputs": [
    {
     "name": "stdout",
     "output_type": "stream",
     "text": [
      "[MoviePy] >>>> Building video test_videos_output/challenge.mp4\n",
      "[MoviePy] Writing video test_videos_output/challenge.mp4\n"
     ]
    },
    {
     "name": "stderr",
     "output_type": "stream",
     "text": [
      "100%|██████████| 251/251 [00:08<00:00, 28.90it/s]\n"
     ]
    },
    {
     "name": "stdout",
     "output_type": "stream",
     "text": [
      "[MoviePy] Done.\n",
      "[MoviePy] >>>> Video ready: test_videos_output/challenge.mp4 \n",
      "\n",
      "CPU times: user 6.47 s, sys: 330 ms, total: 6.8 s\n",
      "Wall time: 9.57 s\n"
     ]
    }
   ],
   "source": [
    "challenge_output = 'test_videos_output/challenge.mp4'\n",
    "## To speed up the testing process you may want to try your pipeline on a shorter subclip of the video\n",
    "## To do so add .subclip(start_second,end_second) to the end of the line below\n",
    "## Where start_second and end_second are integer values representing the start and end of the subclip\n",
    "## You may also uncomment the following line for a subclip of the first 5 seconds\n",
    "##clip3 = VideoFileClip('test_videos/challenge.mp4').subclip(0,5)\n",
    "clip3 = VideoFileClip('test_videos/challenge.mp4')\n",
    "challenge_clip = clip3.fl_image(process_image)\n",
    "%time challenge_clip.write_videofile(challenge_output, audio=False)"
   ]
  },
  {
   "cell_type": "code",
   "execution_count": 29,
   "metadata": {
    "collapsed": false
   },
   "outputs": [
    {
     "data": {
      "text/html": [
       "\n",
       "<video width=\"960\" height=\"540\" controls>\n",
       "  <source src=\"test_videos_output/challenge.mp4\">\n",
       "</video>\n"
      ],
      "text/plain": [
       "<IPython.core.display.HTML object>"
      ]
     },
     "execution_count": 29,
     "metadata": {},
     "output_type": "execute_result"
    }
   ],
   "source": [
    "HTML(\"\"\"\n",
    "<video width=\"960\" height=\"540\" controls>\n",
    "  <source src=\"{0}\">\n",
    "</video>\n",
    "\"\"\".format(challenge_output))"
   ]
  },
  {
   "cell_type": "code",
   "execution_count": null,
   "metadata": {
    "collapsed": true
   },
   "outputs": [],
   "source": [
    ""
   ]
  }
 ],
 "metadata": {
  "kernelspec": {
   "display_name": "Python 3",
   "language": "python",
   "name": "python3"
  },
  "language_info": {
   "codemirror_mode": {
    "name": "ipython",
    "version": 3.0
   },
   "file_extension": ".py",
   "mimetype": "text/x-python",
   "name": "python",
   "nbconvert_exporter": "python",
   "pygments_lexer": "ipython3",
   "version": "3.5.2"
  },
  "widgets": {
   "state": {},
   "version": "1.1.2"
  }
 },
 "nbformat": 4,
 "nbformat_minor": 0
}